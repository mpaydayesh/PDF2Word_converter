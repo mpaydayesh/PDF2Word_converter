{
 "cells": [
  {
   "cell_type": "code",
   "execution_count": 8,
   "metadata": {},
   "outputs": [],
   "source": [
    "import PyPDF2\n",
    "import docx\n",
    "\n",
    "# Open PDF file\n",
    "pdf_file = open('example.pdf', 'rb')\n",
    "pdf_reader = PyPDF2.PdfReader(pdf_file)\n",
    "\n",
    "# Create Word document\n",
    "doc = docx.Document()\n",
    "\n",
    "# Loop through pages in PDF and add to Word document\n",
    "for page_num in range(len(pdf_reader.pages)):\n",
    "    page = pdf_reader.pages[page_num]\n",
    "    text = page.extract_text()\n",
    "    doc.add_paragraph(text)\n",
    "\n",
    "# Save Word document \n",
    "doc.save('example.docx')\n",
    "\n",
    "# Close PDF file\n",
    "pdf_file.close()\n"
   ]
  }
 ],
 "metadata": {
  "kernelspec": {
   "display_name": "Python 3",
   "language": "python",
   "name": "python3"
  },
  "language_info": {
   "codemirror_mode": {
    "name": "ipython",
    "version": 3
   },
   "file_extension": ".py",
   "mimetype": "text/x-python",
   "name": "python",
   "nbconvert_exporter": "python",
   "pygments_lexer": "ipython3",
   "version": "3.8.12"
  },
  "orig_nbformat": 4,
  "vscode": {
   "interpreter": {
    "hash": "e1f62481500a66dcd91d0c7f01f1358dbdc61d473fb3eebc5a66610500afebd5"
   }
  }
 },
 "nbformat": 4,
 "nbformat_minor": 2
}
